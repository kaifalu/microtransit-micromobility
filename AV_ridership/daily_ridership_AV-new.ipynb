{
 "cells": [
  {
   "cell_type": "code",
   "execution_count": 69,
   "id": "5b38cd1d",
   "metadata": {},
   "outputs": [
    {
     "data": {
      "text/html": [
       "<div>\n",
       "<style scoped>\n",
       "    .dataframe tbody tr th:only-of-type {\n",
       "        vertical-align: middle;\n",
       "    }\n",
       "\n",
       "    .dataframe tbody tr th {\n",
       "        vertical-align: top;\n",
       "    }\n",
       "\n",
       "    .dataframe thead th {\n",
       "        text-align: right;\n",
       "    }\n",
       "</style>\n",
       "<table border=\"1\" class=\"dataframe\">\n",
       "  <thead>\n",
       "    <tr style=\"text-align: right;\">\n",
       "      <th></th>\n",
       "      <th>Day of Week</th>\n",
       "      <th>Passengers</th>\n",
       "    </tr>\n",
       "  </thead>\n",
       "  <tbody>\n",
       "    <tr>\n",
       "      <th>0</th>\n",
       "      <td>Mon</td>\n",
       "      <td>2</td>\n",
       "    </tr>\n",
       "    <tr>\n",
       "      <th>1</th>\n",
       "      <td>Mon</td>\n",
       "      <td>7</td>\n",
       "    </tr>\n",
       "    <tr>\n",
       "      <th>2</th>\n",
       "      <td>Mon</td>\n",
       "      <td>23</td>\n",
       "    </tr>\n",
       "    <tr>\n",
       "      <th>3</th>\n",
       "      <td>Mon</td>\n",
       "      <td>7</td>\n",
       "    </tr>\n",
       "    <tr>\n",
       "      <th>4</th>\n",
       "      <td>Mon</td>\n",
       "      <td>29</td>\n",
       "    </tr>\n",
       "  </tbody>\n",
       "</table>\n",
       "</div>"
      ],
      "text/plain": [
       "  Day of Week  Passengers\n",
       "0         Mon           2\n",
       "1         Mon           7\n",
       "2         Mon          23\n",
       "3         Mon           7\n",
       "4         Mon          29"
      ]
     },
     "execution_count": 69,
     "metadata": {},
     "output_type": "execute_result"
    }
   ],
   "source": [
    "import numpy as np\n",
    "import pandas as pd\n",
    "import seaborn as sns\n",
    "import math\n",
    "import matplotlib.pyplot as plt\n",
    "from scipy.stats import nbinom\n",
    "from scipy.stats import poisson\n",
    "from scipy.stats import kstest\n",
    "from scipy.stats import gamma\n",
    "from scipy import stats\n",
    "\n",
    "daily_ridership_AV = pd.read_csv('Lake_Nona_Ridership.csv')\n",
    "for i in range (len(daily_ridership_AV['Passengers'])):\n",
    "    if ~np.isfinite(daily_ridership_AV['Passengers'].iloc[i]):\n",
    "        daily_ridership_AV['Passengers'].iloc[i] = 0\n",
    "daily_ridership_AV = daily_ridership_AV[['Day of Week', 'Passengers']]\n",
    "daily_ridership_AV.head()"
   ]
  },
  {
   "cell_type": "code",
   "execution_count": 2,
   "id": "6de63a9e",
   "metadata": {},
   "outputs": [
    {
     "data": {
      "text/plain": [
       "Text(0, 0.5, 'Daily ridership')"
      ]
     },
     "execution_count": 2,
     "metadata": {},
     "output_type": "execute_result"
    },
    {
     "data": {
      "image/png": "[encoded data removed]",
      "text/plain": [
       "<Figure size 432x288 with 1 Axes>"
      ]
     },
     "metadata": {
      "needs_background": "light"
     },
     "output_type": "display_data"
    }
   ],
   "source": [
    "sns.boxplot(x='Day of Week', y='Passengers', data=daily_ridership_AV,\n",
    "           linewidth = 1, \n",
    "            saturation=0.75, \n",
    "            width=0.5,\n",
    "            flierprops = dict(marker='D', markersize=3),\n",
    "            showmeans = True, \n",
    "            meanprops={\"marker\":\"o\",\n",
    "                       \"markerfacecolor\":\"white\", \n",
    "                       \"markeredgecolor\":\"black\",\n",
    "                      \"markersize\":\"8\"})\n",
    "plt.xlabel('Day of week')\n",
    "plt.ylabel('Daily ridership')"
   ]
  },
  {
   "cell_type": "code",
   "execution_count": 3,
   "id": "03a89a6a",
   "metadata": {},
   "outputs": [],
   "source": [
    "# Monday, Tuesday, Wednesday, Thursday\n",
    "weekday = ['Mon', 'Tue', 'Wed', 'Thu']\n",
    "weekend = ['Fri', 'Sat', 'Sun']\n",
    "df_weekday_ridership = daily_ridership_AV[daily_ridership_AV['Day of Week'].isin(weekday)]\n",
    "df_weekend_ridership = daily_ridership_AV[daily_ridership_AV['Day of Week'].isin(weekend)]"
   ]
  },
  {
   "cell_type": "code",
   "execution_count": 4,
   "id": "21bfb31a",
   "metadata": {},
   "outputs": [],
   "source": [
    "#df_ridership = np.sort(daily_ridership_AV['Passengers'])\n",
    "#df_ridership\n",
    "df_weekday = np.sort(df_weekday_ridership['Passengers'])\n",
    "df_weekday = df_weekday[df_weekday != 0] # delete those zero\n",
    "df_weekend = np.sort(df_weekend_ridership['Passengers'])\n",
    "df_weekend = df_weekend[df_weekend != 0] # delete those zero"
   ]
  },
  {
   "cell_type": "code",
   "execution_count": 46,
   "id": "21ac3013",
   "metadata": {},
   "outputs": [
    {
     "data": {
      "text/plain": [
       "15.147435897435898"
      ]
     },
     "execution_count": 46,
     "metadata": {},
     "output_type": "execute_result"
    }
   ],
   "source": [
    "np.mean(df_weekday)"
   ]
  },
  {
   "cell_type": "code",
   "execution_count": 5,
   "id": "30a2d3b7",
   "metadata": {},
   "outputs": [
    {
     "name": "stderr",
     "output_type": "stream",
     "text": [
      "D:\\Software\\Anaconda\\Install\\envs\\gpd_env\\lib\\site-packages\\scipy\\stats\\_distn_infrastructure.py:2640: RuntimeWarning: invalid value encountered in double_scalars\n",
      "  Lhat = muhat - Shat*mu\n",
      "D:\\Software\\Anaconda\\Install\\envs\\gpd_env\\lib\\site-packages\\scipy\\stats\\_continuous_distns.py:647: RuntimeWarning: invalid value encountered in sqrt\n",
      "  sk = 2*(b-a)*np.sqrt(a + b + 1) / (a + b + 2) / np.sqrt(a*b)\n",
      "D:\\Software\\Anaconda\\Install\\envs\\gpd_env\\lib\\site-packages\\scipy\\optimize\\_minpack_py.py:175: RuntimeWarning: The iteration is not making good progress, as measured by the \n",
      "  improvement from the last ten iterations.\n",
      "  warnings.warn(msg, RuntimeWarning)\n"
     ]
    },
    {
     "name": "stdout",
     "output_type": "stream",
     "text": [
      "lognorm: statistic=0.05153401955660214, pvalue=0.7820088896853485\n",
      "exponnorm: statistic=0.05281514363292558, pvalue=0.7564889977952958\n",
      "invgamma: statistic=0.059274369532851645, pvalue=0.6217469134510853\n",
      "gamma: statistic=0.06639576976656777, pvalue=0.47711438670800443\n",
      "beta: statistic=0.06646695723099619, pvalue=0.4757457474429545\n",
      "alpha: statistic=0.071123969910805, pvalue=0.3907704272526209\n",
      "loglaplace: statistic=0.08888333685651567, pvalue=0.16002930691151762\n",
      "chi: statistic=0.09615312475098785, pvalue=0.10459866583908517\n",
      "expon: statistic=0.0990005338728773, pvalue=0.0877429085384821\n",
      "halfcauchy: statistic=0.11147585991966746, pvalue=0.0382428142192891\n",
      "exponpow: statistic=0.13042182938929714, pvalue=0.008969826814222873\n",
      "halfnorm: statistic=0.14271220411610808, pvalue=0.0030983420125170885\n",
      "t: statistic=0.14360598040052686, pvalue=0.002857065348582516\n",
      "laplace: statistic=0.1665411369867798, pvalue=0.0002993180921297185\n",
      "cauchy: statistic=0.17444617262163464, pvalue=0.00012712901143320662\n",
      "loggamma: statistic=0.1751769599279948, pvalue=0.00011721304165693761\n",
      "norm: statistic=0.17565693719862246, pvalue=0.00011110397908928039\n",
      "cosine: statistic=0.2477027988174379, pvalue=6.444611528547477e-09\n",
      "uniform: statistic=0.5552790346907994, pvalue=8.869710158481912e-46\n",
      "chi2: statistic=0.6175864715092368, pvalue=7.831701383449727e-58\n",
      "reciprocal: statistic=0.9743589743589743, pvalue=1.2443750634907891e-248\n"
     ]
    },
    {
     "name": "stderr",
     "output_type": "stream",
     "text": [
      "D:\\Software\\Anaconda\\Install\\envs\\gpd_env\\lib\\site-packages\\scipy\\stats\\_continuous_distns.py:5350: RuntimeWarning: divide by zero encountered in true_divide\n",
      "  return c**2 / (c**2 - n**2)\n"
     ]
    }
   ],
   "source": [
    "## df_weekday\n",
    "from scipy import stats\n",
    "list_of_dists = ['alpha','beta','cauchy','chi','chi2','cosine','expon','exponnorm',\n",
    "                 'exponpow','gamma','halfcauchy','halfnorm','invgamma','laplace',\n",
    "                 'loggamma','loglaplace','lognorm','norm','reciprocal','t','uniform']\n",
    "results = []\n",
    "for i in list_of_dists:\n",
    "    dist = getattr(stats, i)\n",
    "    param = dist.fit(df_weekday)\n",
    "    a = stats.kstest(df_weekday, i, args=param)\n",
    "    results.append((i,a[0],a[1]))\n",
    "    \n",
    "    \n",
    "results.sort(key=lambda x:float(x[2]), reverse=True)\n",
    "for j in results:\n",
    "    print(\"{}: statistic={}, pvalue={}\".format(j[0], j[1], j[2]))"
   ]
  },
  {
   "cell_type": "code",
   "execution_count": 54,
   "id": "19d1d667",
   "metadata": {},
   "outputs": [],
   "source": [
    "n = 40\n",
    "density = np.zeros((n,1))\n",
    "nmax = max(df_weekday)\n",
    "nmin = min(df_weekday)\n",
    "bandwidth = (nmax-nmin)/n\n",
    "bins = np.arange(nmin, nmax, bandwidth)\n",
    "for i in range (len(df_weekday)):\n",
    "    index = int(df_weekday[i]/bandwidth)\n",
    "    if index >= n:\n",
    "        index = n-1\n",
    "    density[index] = density[index] + 1\n",
    "density = density/len(df_weekday)\n",
    "density = density.reshape(1,-1)[0]\n",
    "\n",
    "data_pdf = []\n",
    "for i in range (len(df_weekday)):\n",
    "    index = int(df_weekday[i]/bandwidth)\n",
    "    if index >= n:\n",
    "        index = n-1\n",
    "    data_pdf.append(density[index])\n",
    "data_pdf = np.array(data_pdf)"
   ]
  },
  {
   "cell_type": "code",
   "execution_count": 59,
   "id": "69dba6f2",
   "metadata": {},
   "outputs": [],
   "source": [
    "fit_alpha, fit_loc, fit_beta = stats.lognorm.fit(df_weekday, floc=0)"
   ]
  },
  {
   "cell_type": "code",
   "execution_count": 52,
   "id": "81fd988b",
   "metadata": {},
   "outputs": [
    {
     "data": {
      "text/plain": [
       "(0.8890635696809736, 0.0, 10.621766755388062)"
      ]
     },
     "execution_count": 52,
     "metadata": {},
     "output_type": "execute_result"
    }
   ],
   "source": [
    "stats.lognorm.fit(df_weekday, floc=0)"
   ]
  },
  {
   "cell_type": "code",
   "execution_count": 63,
   "id": "1df0a8fd",
   "metadata": {},
   "outputs": [
    {
     "data": {
      "text/plain": [
       "0.7904340309338753"
      ]
     },
     "execution_count": 63,
     "metadata": {},
     "output_type": "execute_result"
    }
   ],
   "source": [
    "fit_alpha**2"
   ]
  },
  {
   "cell_type": "code",
   "execution_count": 62,
   "id": "e05841c8",
   "metadata": {},
   "outputs": [
    {
     "data": {
      "text/plain": [
       "2.3629053631249635"
      ]
     },
     "execution_count": 62,
     "metadata": {},
     "output_type": "execute_result"
    }
   ],
   "source": [
    "np.log(fit_beta)"
   ]
  },
  {
   "cell_type": "code",
   "execution_count": 61,
   "id": "fea86a82",
   "metadata": {},
   "outputs": [
    {
     "data": {
      "text/plain": [
       "15.770204658347351"
      ]
     },
     "execution_count": 61,
     "metadata": {},
     "output_type": "execute_result"
    }
   ],
   "source": [
    "np.exp(np.log(fit_beta) + fit_alpha**2/2)"
   ]
  },
  {
   "cell_type": "code",
   "execution_count": 55,
   "id": "f9439f7a",
   "metadata": {},
   "outputs": [
    {
     "name": "stdout",
     "output_type": "stream",
     "text": [
      "0.7310630158621425\n"
     ]
    },
    {
     "data": {
      "text/plain": [
       "0.0019473025242611193"
      ]
     },
     "execution_count": 55,
     "metadata": {},
     "output_type": "execute_result"
    }
   ],
   "source": [
    "## lognorm\n",
    "fit_alpha, fit_loc, fit_beta=stats.lognorm.fit(df_weekday, floc=0)\n",
    "lognorm_pdf=stats.lognorm.pdf(df_weekday,fit_alpha, fit_loc, fit_beta)\n",
    "\n",
    "coefficient_of_dermination = np.corrcoef(data_pdf, lognorm_pdf)\n",
    "coefficient_of_dermination = coefficient_of_dermination[0,1]**2\n",
    "print(coefficient_of_dermination)\n",
    "MSE = np.sum((data_pdf-lognorm_pdf)**2)/len(data_pdf)\n",
    "MSE"
   ]
  },
  {
   "cell_type": "code",
   "execution_count": 26,
   "id": "ced8c879",
   "metadata": {},
   "outputs": [
    {
     "name": "stdout",
     "output_type": "stream",
     "text": [
      "0.7970335579267459\n"
     ]
    },
    {
     "name": "stderr",
     "output_type": "stream",
     "text": [
      "D:\\Software\\Anaconda\\Install\\envs\\gpd_env\\lib\\site-packages\\scipy\\stats\\_distn_infrastructure.py:2640: RuntimeWarning: invalid value encountered in double_scalars\n",
      "  Lhat = muhat - Shat*mu\n"
     ]
    },
    {
     "data": {
      "text/plain": [
       "0.0019480425432187348"
      ]
     },
     "execution_count": 26,
     "metadata": {},
     "output_type": "execute_result"
    }
   ],
   "source": [
    "## alpha\n",
    "fit_alpha, fit_loc, fit_beta=stats.alpha.fit(df_weekday)\n",
    "alpha_pdf=stats.alpha.pdf(df_weekday,fit_alpha, fit_loc, fit_beta)\n",
    "\n",
    "coefficient_of_dermination = np.corrcoef(data_pdf, alpha_pdf)\n",
    "coefficient_of_dermination = coefficient_of_dermination[0,1]**2\n",
    "print(coefficient_of_dermination)\n",
    "MSE = np.sum((data_pdf-alpha_pdf)**2)/len(data_pdf)\n",
    "MSE"
   ]
  },
  {
   "cell_type": "code",
   "execution_count": 27,
   "id": "8fbf417b",
   "metadata": {},
   "outputs": [
    {
     "name": "stdout",
     "output_type": "stream",
     "text": [
      "0.792430232738462\n"
     ]
    },
    {
     "data": {
      "text/plain": [
       "0.0019392748010951429"
      ]
     },
     "execution_count": 27,
     "metadata": {},
     "output_type": "execute_result"
    }
   ],
   "source": [
    "## invgamma\n",
    "fit_alpha, fit_loc, fit_beta=stats.invgamma.fit(df_weekday)\n",
    "invgamma_pdf=stats.invgamma.pdf(df_weekday,fit_alpha, fit_loc, fit_beta)\n",
    "\n",
    "coefficient_of_dermination = np.corrcoef(data_pdf, invgamma_pdf)\n",
    "coefficient_of_dermination = coefficient_of_dermination[0,1]**2\n",
    "print(coefficient_of_dermination)\n",
    "MSE = np.sum((data_pdf-invgamma_pdf)**2)/len(data_pdf)\n",
    "MSE"
   ]
  },
  {
   "cell_type": "code",
   "execution_count": 28,
   "id": "467c9c79",
   "metadata": {},
   "outputs": [
    {
     "name": "stdout",
     "output_type": "stream",
     "text": [
      "0.677687783617251\n"
     ]
    },
    {
     "data": {
      "text/plain": [
       "0.0021934830453305006"
      ]
     },
     "execution_count": 28,
     "metadata": {},
     "output_type": "execute_result"
    }
   ],
   "source": [
    "## gamma\n",
    "fit_alpha, fit_loc, fit_beta=stats.gamma.fit(df_weekday)\n",
    "gamma_pdf=stats.gamma.pdf(df_weekday,fit_alpha, fit_loc, fit_beta)\n",
    "\n",
    "coefficient_of_dermination = np.corrcoef(data_pdf, gamma_pdf)\n",
    "coefficient_of_dermination = coefficient_of_dermination[0,1]**2\n",
    "print(coefficient_of_dermination)\n",
    "MSE = np.sum((data_pdf-gamma_pdf)**2)/len(data_pdf)\n",
    "MSE"
   ]
  },
  {
   "cell_type": "code",
   "execution_count": 31,
   "id": "ec7094c3",
   "metadata": {},
   "outputs": [
    {
     "name": "stderr",
     "output_type": "stream",
     "text": [
      "D:\\Software\\Anaconda\\Install\\envs\\gpd_env\\lib\\site-packages\\seaborn\\distributions.py:2619: FutureWarning: `distplot` is a deprecated function and will be removed in a future version. Please adapt your code to use either `displot` (a figure-level function with similar flexibility) or `histplot` (an axes-level function for histograms).\n",
      "  warnings.warn(msg, FutureWarning)\n"
     ]
    },
    {
     "data": {
      "text/plain": [
       "Text(0.5, 1.0, 'Weekday Group - Sample size: n=156')"
      ]
     },
     "execution_count": 31,
     "metadata": {},
     "output_type": "execute_result"
    },
    {
     "data": {
      "image/png": "[encoded data removed]",
      "text/plain": [
       "<Figure size 432x288 with 1 Axes>"
      ]
     },
     "metadata": {
      "needs_background": "light"
     },
     "output_type": "display_data"
    }
   ],
   "source": [
    "# fitting distribution curves\n",
    "sns.distplot(a=df_weekday, bins=40, kde=False, norm_hist = True, color='grey',\n",
    "             hist_kws={\"edgecolor\": 'black'})\n",
    "l1, = plt.plot(df_weekday,lognorm_pdf, color = 'blue')\n",
    "l2, = plt.plot(df_weekday,alpha_pdf, color = 'orange')\n",
    "l3, = plt.plot(df_weekday,invgamma_pdf, color = 'green')\n",
    "l4, = plt.plot(df_weekday,gamma_pdf, color = 'orange')\n",
    "plt.legend(['Log-Normal R^2=0.7970 MSE=0.0019',\n",
    "            'Alpha          R^2=0.7771 MSE=0.0020',\n",
    "            'Inv-Gamma R^2=0.7924 MSE=0.0019',\n",
    "            'Gamma       R^2=0.6777 MSE=0.0022'])\n",
    "plt.xlabel('Daily ridership')\n",
    "plt.ylabel('Probability density')\n",
    "plt.title('Weekday Group - Sample size: n=156')"
   ]
  },
  {
   "cell_type": "code",
   "execution_count": 32,
   "id": "a13caf86",
   "metadata": {},
   "outputs": [
    {
     "name": "stderr",
     "output_type": "stream",
     "text": [
      "D:\\Software\\Anaconda\\Install\\envs\\gpd_env\\lib\\site-packages\\scipy\\stats\\_distn_infrastructure.py:2640: RuntimeWarning: invalid value encountered in double_scalars\n",
      "  Lhat = muhat - Shat*mu\n"
     ]
    },
    {
     "name": "stdout",
     "output_type": "stream",
     "text": [
      "beta: statistic=0.03768539779251512, pvalue=0.9875492836303444\n",
      "chi: statistic=0.037857814299280146, pvalue=0.9869169505996512\n",
      "gamma: statistic=0.0443680385047428, pvalue=0.9439392639023318\n",
      "lognorm: statistic=0.04701206011284853, pvalue=0.9148203500902933\n",
      "invgamma: statistic=0.0477186855756091, pvalue=0.9059155620742355\n",
      "exponnorm: statistic=0.055411678444037826, pvalue=0.7839941109335913\n",
      "t: statistic=0.058212198547529015, pvalue=0.7317365536528915\n",
      "loglaplace: statistic=0.06701051639359878, pvalue=0.5611190137854998\n",
      "norm: statistic=0.07213897061440572, pvalue=0.4667208562637841\n",
      "loggamma: statistic=0.07340499788656407, pvalue=0.44466407631817717\n",
      "laplace: statistic=0.09884284123072962, pvalue=0.13630318891367388\n",
      "cauchy: statistic=0.10960844421575383, pvalue=0.07403518571988255\n",
      "halfnorm: statistic=0.1710743183006737, pvalue=0.0006729394796544108\n",
      "cosine: statistic=0.20107915867192316, pvalue=3.168628572203645e-05\n",
      "halfcauchy: statistic=0.22360754243115277, pvalue=2.2867807008269648e-06\n",
      "expon: statistic=0.2254603907648341, pvalue=1.8185607185339218e-06\n",
      "alpha: statistic=0.2734559015580941, pvalue=2.403944886435729e-09\n",
      "uniform: statistic=0.3726953467954346, pvalue=3.24084182886957e-17\n",
      "exponpow: statistic=0.8428370413460271, pvalue=1.1217237352226048e-107\n",
      "chi2: statistic=0.9222864782279384, pvalue=4.2519732289519995e-149\n",
      "reciprocal: statistic=1.0, pvalue=0.0\n"
     ]
    },
    {
     "name": "stderr",
     "output_type": "stream",
     "text": [
      "D:\\Software\\Anaconda\\Install\\envs\\gpd_env\\lib\\site-packages\\scipy\\stats\\_continuous_distns.py:5350: RuntimeWarning: divide by zero encountered in true_divide\n",
      "  return c**2 / (c**2 - n**2)\n"
     ]
    }
   ],
   "source": [
    "## df_weekend\n",
    "from scipy import stats\n",
    "list_of_dists = ['alpha','beta','cauchy','chi','chi2','cosine','expon','exponnorm',\n",
    "                 'exponpow','gamma','halfcauchy','halfnorm','invgamma','laplace',\n",
    "                 'loggamma','loglaplace','lognorm','norm','reciprocal','t','uniform']\n",
    "results = []\n",
    "for i in list_of_dists:\n",
    "    dist = getattr(stats, i)\n",
    "    param = dist.fit(df_weekend)\n",
    "    a = stats.kstest(df_weekend, i, args=param)\n",
    "    results.append((i,a[0],a[1]))\n",
    "    \n",
    "    \n",
    "results.sort(key=lambda x:float(x[2]), reverse=True)\n",
    "for j in results:\n",
    "    print(\"{}: statistic={}, pvalue={}\".format(j[0], j[1], j[2]))"
   ]
  },
  {
   "cell_type": "code",
   "execution_count": 33,
   "id": "1672d04d",
   "metadata": {},
   "outputs": [],
   "source": [
    "n = 40\n",
    "density = np.zeros((n,1))\n",
    "nmax = max(df_weekend)\n",
    "nmin = min(df_weekend)\n",
    "bandwidth = (nmax-nmin)/n\n",
    "bins = np.arange(nmin, nmax, bandwidth)\n",
    "for i in range (len(df_weekend)):\n",
    "    index = int(df_weekend[i]/bandwidth)\n",
    "    if index >= n:\n",
    "        index = n-1\n",
    "    density[index] = density[index] + 1\n",
    "density = density/len(df_weekend)\n",
    "density = density.reshape(1,-1)[0]\n",
    "\n",
    "data_pdf = []\n",
    "for i in range (len(df_weekend)):\n",
    "    index = int(df_weekend[i]/bandwidth)\n",
    "    if index >= n:\n",
    "        index = n-1\n",
    "    data_pdf.append(density[index])\n",
    "data_pdf = np.array(data_pdf)"
   ]
  },
  {
   "cell_type": "code",
   "execution_count": 71,
   "id": "83346438",
   "metadata": {},
   "outputs": [],
   "source": [
    "fit_df, fit_loc, fit_scale=stats.chi.fit(df_weekend, floc=0)"
   ]
  },
  {
   "cell_type": "code",
   "execution_count": 78,
   "id": "4846ea27",
   "metadata": {},
   "outputs": [
    {
     "data": {
      "text/plain": [
       "55.37744534536037"
      ]
     },
     "execution_count": 78,
     "metadata": {},
     "output_type": "execute_result"
    }
   ],
   "source": [
    "fit_scale"
   ]
  },
  {
   "cell_type": "code",
   "execution_count": 75,
   "id": "691ebeb4",
   "metadata": {},
   "outputs": [
    {
     "data": {
      "text/plain": [
       "69.21641791044776"
      ]
     },
     "execution_count": 75,
     "metadata": {},
     "output_type": "execute_result"
    }
   ],
   "source": [
    "np.mean(df_weekend)"
   ]
  },
  {
   "cell_type": "code",
   "execution_count": 77,
   "id": "524fc979",
   "metadata": {},
   "outputs": [
    {
     "data": {
      "text/plain": [
       "69.2073525271839"
      ]
     },
     "execution_count": 77,
     "metadata": {},
     "output_type": "execute_result"
    }
   ],
   "source": [
    "aa = np.sqrt(2) * math.gamma((fit_df+1)/2)/math.gamma(fit_df/2)\n",
    "aa*fit_scale"
   ]
  },
  {
   "cell_type": "code",
   "execution_count": 35,
   "id": "d29fa6ae",
   "metadata": {},
   "outputs": [
    {
     "name": "stdout",
     "output_type": "stream",
     "text": [
      "0.47263772999551223\n"
     ]
    },
    {
     "data": {
      "text/plain": [
       "0.0019683754715638965"
      ]
     },
     "execution_count": 35,
     "metadata": {},
     "output_type": "execute_result"
    }
   ],
   "source": [
    "## chi\n",
    "fit_df, fit_loc, fit_scale=stats.chi.fit(df_weekend)\n",
    "chi_pdf=stats.chi.pdf(df_weekend,fit_df, fit_loc, fit_scale)\n",
    "\n",
    "coefficient_of_dermination = np.corrcoef(data_pdf, chi_pdf)\n",
    "coefficient_of_dermination = coefficient_of_dermination[0,1]**2\n",
    "print(coefficient_of_dermination)\n",
    "MSE = np.sum((data_pdf-chi_pdf)**2)/len(data_pdf)\n",
    "MSE"
   ]
  },
  {
   "cell_type": "code",
   "execution_count": 36,
   "id": "6656efd4",
   "metadata": {},
   "outputs": [
    {
     "name": "stdout",
     "output_type": "stream",
     "text": [
      "0.47222762106092653\n"
     ]
    },
    {
     "data": {
      "text/plain": [
       "0.0019489363298935036"
      ]
     },
     "execution_count": 36,
     "metadata": {},
     "output_type": "execute_result"
    }
   ],
   "source": [
    "## gamma\n",
    "fit_alpha, fit_loc, fit_beta=stats.gamma.fit(df_weekend)\n",
    "gamma_pdf=stats.gamma.pdf(df_weekend,fit_alpha, fit_loc, fit_beta)\n",
    "\n",
    "coefficient_of_dermination = np.corrcoef(data_pdf, gamma_pdf)\n",
    "coefficient_of_dermination = coefficient_of_dermination[0,1]**2\n",
    "print(coefficient_of_dermination)\n",
    "MSE = np.sum((data_pdf-gamma_pdf)**2)/len(data_pdf)\n",
    "MSE"
   ]
  },
  {
   "cell_type": "code",
   "execution_count": 37,
   "id": "f9912c71",
   "metadata": {},
   "outputs": [
    {
     "name": "stdout",
     "output_type": "stream",
     "text": [
      "0.48448789695644723\n"
     ]
    },
    {
     "data": {
      "text/plain": [
       "0.0019410170675271162"
      ]
     },
     "execution_count": 37,
     "metadata": {},
     "output_type": "execute_result"
    }
   ],
   "source": [
    "## invgamma\n",
    "fit_alpha, fit_loc, fit_beta=stats.invgamma.fit(df_weekend)\n",
    "invgamma_pdf=stats.invgamma.pdf(df_weekend,fit_alpha, fit_loc, fit_beta)\n",
    "\n",
    "coefficient_of_dermination = np.corrcoef(data_pdf, invgamma_pdf)\n",
    "coefficient_of_dermination = coefficient_of_dermination[0,1]**2\n",
    "print(coefficient_of_dermination)\n",
    "MSE = np.sum((data_pdf-invgamma_pdf)**2)/len(data_pdf)\n",
    "MSE"
   ]
  },
  {
   "cell_type": "code",
   "execution_count": 38,
   "id": "c8cbbbe8",
   "metadata": {},
   "outputs": [
    {
     "name": "stdout",
     "output_type": "stream",
     "text": [
      "0.4813786713412837\n"
     ]
    },
    {
     "data": {
      "text/plain": [
       "0.0019427387958839465"
      ]
     },
     "execution_count": 38,
     "metadata": {},
     "output_type": "execute_result"
    }
   ],
   "source": [
    "## lognorm\n",
    "fit_alpha, fit_loc, fit_beta=stats.lognorm.fit(df_weekend)\n",
    "lognorm_pdf=stats.lognorm.pdf(df_weekend,fit_alpha, fit_loc, fit_beta)\n",
    "\n",
    "coefficient_of_dermination = np.corrcoef(data_pdf, lognorm_pdf)\n",
    "coefficient_of_dermination = coefficient_of_dermination[0,1]**2\n",
    "print(coefficient_of_dermination)\n",
    "MSE = np.sum((data_pdf-lognorm_pdf)**2)/len(data_pdf)\n",
    "MSE"
   ]
  },
  {
   "cell_type": "code",
   "execution_count": 40,
   "id": "0e8938e0",
   "metadata": {},
   "outputs": [
    {
     "name": "stderr",
     "output_type": "stream",
     "text": [
      "D:\\Software\\Anaconda\\Install\\envs\\gpd_env\\lib\\site-packages\\seaborn\\distributions.py:2619: FutureWarning: `distplot` is a deprecated function and will be removed in a future version. Please adapt your code to use either `displot` (a figure-level function with similar flexibility) or `histplot` (an axes-level function for histograms).\n",
      "  warnings.warn(msg, FutureWarning)\n"
     ]
    },
    {
     "data": {
      "text/plain": [
       "Text(0.5, 1.0, 'Weekend Group - Sample size: n=134')"
      ]
     },
     "execution_count": 40,
     "metadata": {},
     "output_type": "execute_result"
    },
    {
     "data": {
      "image/png": "[encoded data removed]",
      "text/plain": [
       "<Figure size 432x288 with 1 Axes>"
      ]
     },
     "metadata": {
      "needs_background": "light"
     },
     "output_type": "display_data"
    }
   ],
   "source": [
    "# fitting distribution curves\n",
    "sns.distplot(a=df_weekend, bins=40, kde=False, norm_hist = True, color='grey',\n",
    "             hist_kws={\"edgecolor\": 'black'})\n",
    "l1, = plt.plot(df_weekend,chi_pdf, color = 'blue')\n",
    "l2, = plt.plot(df_weekend,invgamma_pdf, color = 'orange')\n",
    "l3, = plt.plot(df_weekend,gamma_pdf, color = 'green')\n",
    "l4, = plt.plot(df_weekend,lognorm_pdf, color = 'orange')\n",
    "plt.legend(['Chi              R^2=0.4845 MSE=0.0019',\n",
    "            'Inv-Gamma R^2=0.4722 MSE=0.0019',\n",
    "            'Gamma       R^2=0.4726 MSE=0.0020',\n",
    "            'Log-Norm    R^2=0.4814 MSE=0.0019'])\n",
    "plt.xlabel('Daily ridership')\n",
    "plt.ylabel('Probability density')\n",
    "plt.title('Weekend Group - Sample size: n=134')"
   ]
  },
  {
   "cell_type": "code",
   "execution_count": null,
   "id": "2189cbe1",
   "metadata": {},
   "outputs": [],
   "source": []
  }
 ],
 "metadata": {
  "kernelspec": {
   "display_name": "Python 3 (ipykernel)",
   "language": "python",
   "name": "python3"
  },
  "language_info": {
   "codemirror_mode": {
    "name": "ipython",
    "version": 3
   },
   "file_extension": ".py",
   "mimetype": "text/x-python",
   "name": "python",
   "nbconvert_exporter": "python",
   "pygments_lexer": "ipython3",
   "version": "3.9.12"
  }
 },
 "nbformat": 4,
 "nbformat_minor": 5
}
